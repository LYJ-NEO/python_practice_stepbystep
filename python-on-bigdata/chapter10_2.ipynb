{
 "cells": [
  {
   "cell_type": "code",
   "execution_count": 1,
   "metadata": {},
   "outputs": [],
   "source": [
    "from pyspark import SparkContext\n",
    "from pyspark.sql import SparkSession"
   ]
  },
  {
   "cell_type": "code",
   "execution_count": 2,
   "metadata": {},
   "outputs": [],
   "source": [
    "from pyspark.sql.types import *\n",
    "sc=SparkContext(appName=\"DataFrame_d2\") \n",
    "spark=SparkSession.builder.appName('d2').getOrCreate()"
   ]
  },
  {
   "cell_type": "code",
   "execution_count": 3,
   "metadata": {},
   "outputs": [],
   "source": [
    "staff=[(1,'mike',30,'finance',24000),(2,'lee',34,'develop',36000),(3,'allen',36,'manager',40000),(4,'jane',None,'CFO',None)] \n",
    "staff_schema = StructType([\n",
    "        StructField(\"id\", IntegerType(), True),    \n",
    "        StructField(\"name\", StringType(), True),\n",
    "        StructField(\"age\", IntegerType(), True),\n",
    "        StructField(\"job\", StringType(), True),\n",
    "        StructField(\"salary\",LongType(),True)\n",
    "])\n",
    "staff_df=spark.createDataFrame(staff,staff_schema)"
   ]
  },
  {
   "cell_type": "code",
   "execution_count": 4,
   "metadata": {},
   "outputs": [],
   "source": [
    "user=[(1,'mike','BeiJin','朝阳'),(2,None,'ShangHai','徐汇'),(3,'allen','GuangZhou','天河'),(4,'jane','ShenZhen','福田')]\n",
    "user_schema=StructType([\n",
    "        StructField(\"id\", IntegerType(), True),    \n",
    "        StructField(\"name\", StringType(), True),\n",
    "        StructField(\"city\", StringType(), True),\n",
    "        StructField(\"region\", StringType(), True)\n",
    "])\n",
    "user_df=spark.createDataFrame(user,user_schema)"
   ]
  },
  {
   "cell_type": "code",
   "execution_count": 7,
   "metadata": {},
   "outputs": [],
   "source": [
    "cross_data=staff_df.crossJoin(user_df)"
   ]
  },
  {
   "cell_type": "code",
   "execution_count": 8,
   "metadata": {},
   "outputs": [
    {
     "name": "stdout",
     "output_type": "stream",
     "text": [
      "+---+-----+----+-------+------+---+-----+---------+------+\n",
      "| id| name| age|    job|salary| id| name|     city|region|\n",
      "+---+-----+----+-------+------+---+-----+---------+------+\n",
      "|  1| mike|  30|finance| 24000|  1| mike|   BeiJin|æé³|\n",
      "|  1| mike|  30|finance| 24000|  2| null| ShangHai|å¾æ±|\n",
      "|  1| mike|  30|finance| 24000|  3|allen|GuangZhou|å¤©æ²³|\n",
      "|  1| mike|  30|finance| 24000|  4| jane| ShenZhen|ç¦ç°|\n",
      "|  2|  lee|  34|develop| 36000|  1| mike|   BeiJin|æé³|\n",
      "|  2|  lee|  34|develop| 36000|  2| null| ShangHai|å¾æ±|\n",
      "|  2|  lee|  34|develop| 36000|  3|allen|GuangZhou|å¤©æ²³|\n",
      "|  2|  lee|  34|develop| 36000|  4| jane| ShenZhen|ç¦ç°|\n",
      "|  3|allen|  36|manager| 40000|  1| mike|   BeiJin|æé³|\n",
      "|  3|allen|  36|manager| 40000|  2| null| ShangHai|å¾æ±|\n",
      "|  3|allen|  36|manager| 40000|  3|allen|GuangZhou|å¤©æ²³|\n",
      "|  3|allen|  36|manager| 40000|  4| jane| ShenZhen|ç¦ç°|\n",
      "|  4| jane|null|    CFO|  null|  1| mike|   BeiJin|æé³|\n",
      "|  4| jane|null|    CFO|  null|  2| null| ShangHai|å¾æ±|\n",
      "|  4| jane|null|    CFO|  null|  3|allen|GuangZhou|å¤©æ²³|\n",
      "|  4| jane|null|    CFO|  null|  4| jane| ShenZhen|ç¦ç°|\n",
      "+---+-----+----+-------+------+---+-----+---------+------+\n",
      "\n"
     ]
    }
   ],
   "source": [
    "cross_data.show()"
   ]
  },
  {
   "cell_type": "code",
   "execution_count": 12,
   "metadata": {},
   "outputs": [],
   "source": [
    "except_data=user_df.select('id','name').exceptAll(staff_df.select('id','name'))"
   ]
  },
  {
   "cell_type": "code",
   "execution_count": 13,
   "metadata": {},
   "outputs": [
    {
     "name": "stdout",
     "output_type": "stream",
     "text": [
      "+---+----+\n",
      "| id|name|\n",
      "+---+----+\n",
      "|  2|null|\n",
      "+---+----+\n",
      "\n"
     ]
    }
   ],
   "source": [
    "except_data.show()"
   ]
  },
  {
   "cell_type": "code",
   "execution_count": 16,
   "metadata": {},
   "outputs": [
    {
     "name": "stdout",
     "output_type": "stream",
     "text": [
      "+---+-----+\n",
      "| id| name|\n",
      "+---+-----+\n",
      "|  4| jane|\n",
      "|  3|allen|\n",
      "|  1| mike|\n",
      "+---+-----+\n",
      "\n"
     ]
    }
   ],
   "source": [
    "user_df.select('id','name').intersectAll(staff_df.select('id','name')).show()"
   ]
  },
  {
   "cell_type": "code",
   "execution_count": 18,
   "metadata": {},
   "outputs": [
    {
     "name": "stdout",
     "output_type": "stream",
     "text": [
      "+-----+------+---------+\n",
      "| name|salary|     city|\n",
      "+-----+------+---------+\n",
      "| mike| 24000|   BeiJin|\n",
      "|allen| 40000|GuangZhou|\n",
      "| jane|  null| ShenZhen|\n",
      "|  lee| 36000| ShangHai|\n",
      "+-----+------+---------+\n",
      "\n"
     ]
    }
   ],
   "source": [
    "staff_df.join(user_df,staff_df.id==user_df.id,'left').select(staff_df.name,staff_df.salary,user_df.city).show()"
   ]
  },
  {
   "cell_type": "code",
   "execution_count": 23,
   "metadata": {},
   "outputs": [
    {
     "data": {
      "text/plain": [
       "[Row(min(salary)=24000)]"
      ]
     },
     "execution_count": 23,
     "metadata": {},
     "output_type": "execute_result"
    }
   ],
   "source": [
    "staff_df.agg({'salary':'min'}).collect()\n",
    "from pyspark.sql import functions as F\n",
    "staff_df.agg(F.min(staff_df.salary)).collect()"
   ]
  },
  {
   "cell_type": "code",
   "execution_count": 43,
   "metadata": {},
   "outputs": [],
   "source": [
    "t=staff_df.select(staff_df.age.cast(DoubleType()),staff_df.salary.cast(DoubleType()) )"
   ]
  },
  {
   "cell_type": "code",
   "execution_count": 46,
   "metadata": {},
   "outputs": [
    {
     "data": {
      "text/plain": [
       "0.9714027646697837"
      ]
     },
     "execution_count": 46,
     "metadata": {},
     "output_type": "execute_result"
    }
   ],
   "source": [
    "t.corr('age','salary')"
   ]
  },
  {
   "cell_type": "code",
   "execution_count": 47,
   "metadata": {},
   "outputs": [
    {
     "data": {
      "text/plain": [
       "0.9714027646697837"
      ]
     },
     "execution_count": 47,
     "metadata": {},
     "output_type": "execute_result"
    }
   ],
   "source": [
    "staff_df.corr('age','salary')"
   ]
  },
  {
   "cell_type": "code",
   "execution_count": 48,
   "metadata": {},
   "outputs": [
    {
     "data": {
      "text/plain": [
       "4"
      ]
     },
     "execution_count": 48,
     "metadata": {},
     "output_type": "execute_result"
    }
   ],
   "source": [
    "staff_df.count()"
   ]
  },
  {
   "cell_type": "code",
   "execution_count": 49,
   "metadata": {},
   "outputs": [
    {
     "data": {
      "text/plain": [
       "294666.6666666667"
      ]
     },
     "execution_count": 49,
     "metadata": {},
     "output_type": "execute_result"
    }
   ],
   "source": [
    "staff_df.cov('age','salary')"
   ]
  },
  {
   "cell_type": "code",
   "execution_count": 50,
   "metadata": {},
   "outputs": [
    {
     "data": {
      "text/plain": [
       "294666.6666666667"
      ]
     },
     "execution_count": 50,
     "metadata": {},
     "output_type": "execute_result"
    }
   ],
   "source": [
    "t.cov('age','salary')"
   ]
  },
  {
   "cell_type": "code",
   "execution_count": 54,
   "metadata": {},
   "outputs": [
    {
     "data": {
      "text/plain": [
       "pyspark.sql.group.GroupedData"
      ]
     },
     "execution_count": 54,
     "metadata": {},
     "output_type": "execute_result"
    }
   ],
   "source": [
    "type(staff_df.cube('age'))"
   ]
  },
  {
   "cell_type": "code",
   "execution_count": 57,
   "metadata": {},
   "outputs": [
    {
     "name": "stdout",
     "output_type": "stream",
     "text": [
      "+-------+------------------+-----+------------------+-------+------------------+\n",
      "|summary|                id| name|               age|    job|            salary|\n",
      "+-------+------------------+-----+------------------+-------+------------------+\n",
      "|  count|                 4|    4|                 3|      4|                 3|\n",
      "|   mean|               2.5| null|33.333333333333336|   null|33333.333333333336|\n",
      "| stddev|1.2909944487358056| null| 3.055050463303893|   null|  8326.66399786453|\n",
      "|    min|                 1|allen|                30|    CFO|             24000|\n",
      "|    max|                 4| mike|                36|manager|             40000|\n",
      "+-------+------------------+-----+------------------+-------+------------------+\n",
      "\n"
     ]
    }
   ],
   "source": [
    "staff_df.describe().show()"
   ]
  },
  {
   "cell_type": "code",
   "execution_count": 59,
   "metadata": {},
   "outputs": [
    {
     "data": {
      "text/plain": [
       "[Row(avg(id)=2.5, avg(age)=33.333333333333336, avg(salary)=33333.333333333336)]"
      ]
     },
     "execution_count": 59,
     "metadata": {},
     "output_type": "execute_result"
    }
   ],
   "source": [
    "staff_df.groupBy().avg().collect()"
   ]
  },
  {
   "cell_type": "code",
   "execution_count": 64,
   "metadata": {},
   "outputs": [
    {
     "name": "stdout",
     "output_type": "stream",
     "text": [
      "+-------+------------------+-----+------------------+-------+------------------+\n",
      "|summary|                id| name|               age|    job|            salary|\n",
      "+-------+------------------+-----+------------------+-------+------------------+\n",
      "|  count|                 4|    4|                 3|      4|                 3|\n",
      "|   mean|               2.5| null|33.333333333333336|   null|33333.333333333336|\n",
      "| stddev|1.2909944487358056| null| 3.055050463303893|   null|  8326.66399786453|\n",
      "|    min|                 1|allen|                30|    CFO|             24000|\n",
      "|    max|                 4| mike|                36|manager|             40000|\n",
      "+-------+------------------+-----+------------------+-------+------------------+\n",
      "\n",
      "+---+-----+----+-------+------+\n",
      "| id| name| age|    job|salary|\n",
      "+---+-----+----+-------+------+\n",
      "|  3|allen|  36|manager| 40000|\n",
      "|  4| jane|null|    CFO|  null|\n",
      "|  2|  lee|  34|develop| 36000|\n",
      "|  1| mike|  30|finance| 24000|\n",
      "+---+-----+----+-------+------+\n",
      "\n"
     ]
    }
   ],
   "source": [
    "staff_df.describe().show()\n",
    "staff_df.sort('name','salary').show()"
   ]
  },
  {
   "cell_type": "code",
   "execution_count": 65,
   "metadata": {},
   "outputs": [
    {
     "name": "stdout",
     "output_type": "stream",
     "text": [
      "+-------+---+-----+---+-------+------+\n",
      "|summary| id| name|age|    job|salary|\n",
      "+-------+---+-----+---+-------+------+\n",
      "|  count|  4|    4|  3|      4|     3|\n",
      "|    min|  1|allen| 30|    CFO| 24000|\n",
      "|    25%|  1| null| 30|   null| 24000|\n",
      "|    75%|  3| null| 36|   null| 40000|\n",
      "|    max|  4| mike| 36|manager| 40000|\n",
      "+-------+---+-----+---+-------+------+\n",
      "\n"
     ]
    }
   ],
   "source": [
    "staff_df.summary(\"count\", \"min\", \"25%\", \"75%\", \"max\").show()"
   ]
  },
  {
   "cell_type": "code",
   "execution_count": null,
   "metadata": {},
   "outputs": [],
   "source": []
  }
 ],
 "metadata": {
  "kernelspec": {
   "display_name": "Python 2",
   "language": "python",
   "name": "python2"
  },
  "language_info": {
   "codemirror_mode": {
    "name": "ipython",
    "version": 2
   },
   "file_extension": ".py",
   "mimetype": "text/x-python",
   "name": "python",
   "nbconvert_exporter": "python",
   "pygments_lexer": "ipython2",
   "version": "2.7.16"
  }
 },
 "nbformat": 4,
 "nbformat_minor": 2
}
